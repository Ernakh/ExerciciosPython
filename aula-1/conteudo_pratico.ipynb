{
  "cells": [
    {
      "cell_type": "markdown",
      "id": "e3f369cc-1d36-4001-a791-cce5e426eaaf",
      "metadata": {
        "id": "e3f369cc-1d36-4001-a791-cce5e426eaaf"
      },
      "source": [
        "# Atividades"
      ]
    },
    {
      "cell_type": "code",
      "source": [],
      "metadata": {
        "id": "shLySlv-W172"
      },
      "id": "shLySlv-W172",
      "execution_count": null,
      "outputs": []
    },
    {
      "cell_type": "markdown",
      "id": "d203e0c5-f7f1-4629-bd12-69ce36061e60",
      "metadata": {
        "id": "d203e0c5-f7f1-4629-bd12-69ce36061e60"
      },
      "source": [
        "## Atividade 1: Classificar Nota\n",
        "\n",
        "1. Crie uma variável nota_final e atribua um valor numérico a ela.\n",
        "\n",
        "2. Use uma estrutura condicional (if/elif/else) para verificar a nota e imprimir a classificação do aluno:\n",
        "\n",
        "3. Se a nota for maior ou igual a 7, imprima \"Aprovado\".\n",
        "\n",
        "4. Se a nota for maior ou igual a 5 e menor que 7, imprima \"Recuperação\".\n",
        "\n",
        "5. Caso contrário, imprima \"Reprovado\"."
      ]
    },
    {
      "cell_type": "code",
      "execution_count": null,
      "id": "722203f1-6b69-4274-9502-f599524af60f",
      "metadata": {
        "colab": {
          "base_uri": "https://localhost:8080/"
        },
        "id": "722203f1-6b69-4274-9502-f599524af60f",
        "outputId": "692e47b5-4275-42e5-cc61-2467c37c0610"
      },
      "outputs": [
        {
          "output_type": "stream",
          "name": "stdout",
          "text": [
            "Aprovado\n"
          ]
        }
      ],
      "source": [
        "# Escreva o código aqui\n",
        "nota_final = 7.5;\n",
        "\n",
        "if nota_final >= 7:\n",
        "    print(\"Aprovado\");\n",
        "elif nota_final >= 5:\n",
        "    print(\"Recuperação\");\n",
        "else:\n",
        "    print(\"Reprovado\");"
      ]
    },
    {
      "cell_type": "markdown",
      "id": "12535d27-3479-4b06-a5ba-590a9d607227",
      "metadata": {
        "id": "12535d27-3479-4b06-a5ba-590a9d607227"
      },
      "source": [
        "## Atividade 2: Processando lista de frutas\n",
        "\n",
        "1. Crie uma lista chamada frutas com pelo menos 5 nomes de frutas.\n",
        "\n",
        "2. Use um laço de repetição for para iterar sobre a lista.\n",
        "\n",
        "3. Dentro do loop, use uma condicional (if) para verificar se o nome da fruta é \"morango\".\n",
        "\n",
        "4. Se for \"morango\", imprima \"Eu amo morangos!\". Se não for, imprima o nome da fruta."
      ]
    },
    {
      "cell_type": "code",
      "execution_count": null,
      "id": "4d3c4149-7573-4a30-961a-f0045a7178d3",
      "metadata": {
        "colab": {
          "base_uri": "https://localhost:8080/"
        },
        "id": "4d3c4149-7573-4a30-961a-f0045a7178d3",
        "outputId": "6a1cd76c-0a97-4986-ddcf-72426f4ccfc6"
      },
      "outputs": [
        {
          "output_type": "stream",
          "name": "stdout",
          "text": [
            "banana\n",
            "maçã\n",
            "Eu amo morangos!\n",
            "uva\n",
            "laranja\n"
          ]
        }
      ],
      "source": [
        "# Escreva o código aqui\n",
        "frutas = [\"banana\", \"maçã\", \"morango\", \"uva\", \"laranja\"];\n",
        "\n",
        "for fruta in frutas:\n",
        "  if fruta == \"morango\":\n",
        "    print(\"Eu amo morangos!\");\n",
        "  else:\n",
        "    print(fruta);"
      ]
    },
    {
      "cell_type": "markdown",
      "id": "f1d4cb13-a84d-43b8-87e4-dcf1e04a600d",
      "metadata": {
        "id": "f1d4cb13-a84d-43b8-87e4-dcf1e04a600d"
      },
      "source": [
        "## Atividade 3: Contar Vogais em uma Frase\n",
        "\n",
        "1. Crie uma variável frase e atribua a ela uma frase de sua escolha.\n",
        "\n",
        "2. Crie uma variável contador_vogais e inicialize-a com 0.\n",
        "\n",
        "3. Defina uma lista ou string com todas as vogais (vogais = \"aeiouAEIOU\").\n",
        "\n",
        "4. Use um laço de repetição for para percorrer cada caractere da frase.\n",
        "\n",
        "5. Dentro do loop, use uma condicional (if) para verificar se o caractere atual está presente na lista de vogais.\n",
        "\n",
        "6. Se estiver, incremente contador_vogais em 1.\n",
        "\n",
        "7. Após o loop, imprima a frase e o total de vogais encontradas."
      ]
    },
    {
      "cell_type": "code",
      "execution_count": null,
      "id": "422825e8-f030-42ac-b23e-e98bed85b88c",
      "metadata": {
        "colab": {
          "base_uri": "https://localhost:8080/"
        },
        "id": "422825e8-f030-42ac-b23e-e98bed85b88c",
        "outputId": "b214148f-304e-48af-bd8f-3d5242aef67e"
      },
      "outputs": [
        {
          "output_type": "stream",
          "name": "stdout",
          "text": [
            "Frase: Educação é a chave para transformar o mundo\n",
            "Total de vogais encontradas: 15\n"
          ]
        }
      ],
      "source": [
        "# Escreva o código aqui\n",
        "frase = \"Educação é a chave para transformar o mundo\";\n",
        "contador_vogais = 0;\n",
        "vogais = \"aeiouAEIOU\";\n",
        "\n",
        "for caractere in frase:\n",
        "    if caractere in vogais:\n",
        "        contador_vogais += 1\n",
        "\n",
        "print(\"Frase:\", frase)\n",
        "print(\"Total de vogais encontradas:\", contador_vogais)"
      ]
    },
    {
      "cell_type": "markdown",
      "id": "7bb379d8-8c8f-4ef5-90f3-0e957419722e",
      "metadata": {
        "id": "7bb379d8-8c8f-4ef5-90f3-0e957419722e"
      },
      "source": [
        "## Atividade 4: Criar um Dicionário de Produtos\n",
        "\n",
        "1. Crie um dicionário chamado produtos onde as chaves são os nomes dos produtos e os valores são outros dicionários com as chaves \"preço\" e \"em_estoque\" (com valores numéricos e booleanos, respectivamente). Adicione pelo menos 3 produtos.\n",
        "\n",
        "2. Exemplo: {'camiseta': {'preço': 50, 'em_estoque': True}}\n",
        "\n",
        "3. Use um laço de repetição for para percorrer os itens do dicionário de produtos.\n",
        "\n",
        "4. Dentro do loop, imprima o nome do produto e seu preço.\n",
        "\n",
        "5. Adicione uma condicional (if) para verificar se o produto está em estoque. Se não estiver, imprima \"Produto fora de estoque\"."
      ]
    },
    {
      "cell_type": "code",
      "execution_count": null,
      "id": "16989dba-bbd1-49c8-89de-8972538af5b3",
      "metadata": {
        "colab": {
          "base_uri": "https://localhost:8080/"
        },
        "id": "16989dba-bbd1-49c8-89de-8972538af5b3",
        "outputId": "a2c95d3b-6936-486d-8651-447e96d2760d"
      },
      "outputs": [
        {
          "output_type": "stream",
          "name": "stdout",
          "text": [
            "Produto: camiseta | Preço: R$ 50\n",
            "Produto: calça | Preço: R$ 120\n",
            "Produto fora de estoque\n",
            "Produto: tênis | Preço: R$ 200\n"
          ]
        }
      ],
      "source": [
        "# Escreva o código aqui\n",
        "\n",
        "produtos = {\n",
        "    \"camiseta\": {\"preço\": 50, \"em_estoque\": True},\n",
        "    \"calça\": {\"preço\": 120, \"em_estoque\": False},\n",
        "    \"tênis\": {\"preço\": 200, \"em_estoque\": True}\n",
        "};\n",
        "\n",
        "for produto, detalhes in produtos.items():\n",
        "    print(f\"Produto: {produto} | Preço: R$ {detalhes['preço']}\");\n",
        "\n",
        "    if not detalhes[\"em_estoque\"]:\n",
        "        print(\"Produto fora de estoque\");"
      ]
    },
    {
      "cell_type": "markdown",
      "id": "abcc39d8-e96a-44dd-b108-df573032cb61",
      "metadata": {
        "id": "abcc39d8-e96a-44dd-b108-df573032cb61"
      },
      "source": [
        "## Atividade 5: Análise de Vendas de Produtos\n",
        "\n",
        "1. Crie uma lista chamada registros_vendas, onde cada item da lista é um dicionário representando uma venda. Cada dicionário deve ter as chaves \"produto\", \"quantidade\" e \"valor_unitario\". Adicione pelo menos 5 registros de vendas.\n",
        "\n",
        "2. Crie uma variável vendas_totais e inicialize-a com 0.\n",
        "\n",
        "3. Crie uma variável produtos_mais_vendidos como um dicionário vazio.\n",
        "\n",
        "4. Use um laço de repetição for para percorrer a lista registros_vendas.\n",
        "\n",
        "5. Dentro do loop, calcule o valor total de cada venda (quantidade * valor_unitario) e adicione-o a vendas_totais.\n",
        "\n",
        "6. Use um condicional para verificar se o produto da venda já existe no dicionário produtos_mais_vendidos. Se sim, adicione a quantidade vendida. Se não, adicione o produto como uma nova chave com a quantidade atual.\n",
        "\n",
        "7. Após o loop, imprima o valor total de todas as vendas e o dicionário produtos_mais_vendidos para ver o total de unidades vendidas por produto."
      ]
    },
    {
      "cell_type": "code",
      "execution_count": null,
      "id": "3db0440a-680e-439a-8bf8-d27bdae4bb19",
      "metadata": {
        "colab": {
          "base_uri": "https://localhost:8080/"
        },
        "id": "3db0440a-680e-439a-8bf8-d27bdae4bb19",
        "outputId": "7aeacfea-3735-4e56-d80a-fb98d335a3cf"
      },
      "outputs": [
        {
          "output_type": "stream",
          "name": "stdout",
          "text": [
            "Valor total de todas as vendas: R$ 810\n",
            "Produtos mais vendidos (quantidade por produto):\n",
            "{'camiseta': 5, 'calça': 2, 'tênis': 1, 'boné': 4}\n"
          ]
        }
      ],
      "source": [
        "# Escreva o código aqui\n",
        "\n",
        "registros_vendas = [\n",
        "    {\"produto\": \"camiseta\", \"quantidade\": 3, \"valor_unitario\": 50},\n",
        "    {\"produto\": \"calça\", \"quantidade\": 2, \"valor_unitario\": 120},\n",
        "    {\"produto\": \"tênis\", \"quantidade\": 1, \"valor_unitario\": 200},\n",
        "    {\"produto\": \"camiseta\", \"quantidade\": 2, \"valor_unitario\": 50},\n",
        "    {\"produto\": \"boné\", \"quantidade\": 4, \"valor_unitario\": 30}\n",
        "];\n",
        "\n",
        "vendas_totais = 0;\n",
        "produtos_mais_vendidos = {};\n",
        "\n",
        "for venda in registros_vendas:\n",
        "    valor_total = venda[\"quantidade\"] * venda[\"valor_unitario\"];\n",
        "    vendas_totais += valor_total;\n",
        "\n",
        "    produto = venda[\"produto\"];\n",
        "\n",
        "    if produto in produtos_mais_vendidos:\n",
        "        produtos_mais_vendidos[produto] += venda[\"quantidade\"];\n",
        "    else:\n",
        "        produtos_mais_vendidos[produto] = venda[\"quantidade\"];\n",
        "\n",
        "print(\"Valor total de todas as vendas: R$\", vendas_totais);\n",
        "print(\"Produtos mais vendidos (quantidade por produto):\");\n",
        "print(produtos_mais_vendidos);"
      ]
    }
  ],
  "metadata": {
    "kernelspec": {
      "display_name": "Python 3 (ipykernel)",
      "language": "python",
      "name": "python3"
    },
    "language_info": {
      "codemirror_mode": {
        "name": "ipython",
        "version": 3
      },
      "file_extension": ".py",
      "mimetype": "text/x-python",
      "name": "python",
      "nbconvert_exporter": "python",
      "pygments_lexer": "ipython3",
      "version": "3.13.7"
    },
    "colab": {
      "provenance": []
    }
  },
  "nbformat": 4,
  "nbformat_minor": 5
}