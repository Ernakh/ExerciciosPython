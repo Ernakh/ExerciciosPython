{
  "cells": [
    {
      "cell_type": "markdown",
      "id": "89b8286c-b3f1-4cd7-b7cf-59b8ea684517",
      "metadata": {
        "id": "89b8286c-b3f1-4cd7-b7cf-59b8ea684517"
      },
      "source": [
        "## Atividade 1: Contar Frequência de Palavras\n",
        "\n",
        "1. Crie uma variável texto com uma frase de sua escolha.\n",
        "\n",
        "2. Crie um dicionário vazio chamado contagem_palavras.\n",
        "\n",
        "3. Separe a frase em palavras (dica: use o método .split()).\n",
        "\n",
        "4. Use um laço de repetição for para percorrer a lista de palavras.\n",
        "\n",
        "5. Dentro do loop, use um condicional (if/else) para verificar se a palavra já é uma chave no dicionário contagem_palavras.\n",
        "\n",
        "6. Se a palavra existir, incremente seu valor em 1.\n",
        "\n",
        "7. Se não existir, adicione a palavra como uma nova chave com o valor 1.\n",
        "\n",
        "8. Ao final, imprima o dicionário contagem_palavras."
      ]
    },
    {
      "cell_type": "code",
      "execution_count": null,
      "id": "69783cb5-5476-40d8-865b-ab1d47daeb25",
      "metadata": {
        "colab": {
          "base_uri": "https://localhost:8080/"
        },
        "id": "69783cb5-5476-40d8-865b-ab1d47daeb25",
        "outputId": "b57c8962-2650-457e-e42f-247042f6c4b3"
      },
      "outputs": [
        {
          "output_type": "stream",
          "name": "stdout",
          "text": [
            "Contagem de palavras: {'Grêmio': 1, 'vai': 1, 'sair': 2, 'campeão!': 2, 'Vai': 1}\n"
          ]
        }
      ],
      "source": [
        "# Escreva o código aqui\n",
        "texto = \"Grêmio vai sair campeão! Vai sair campeão!\";\n",
        "contagem_palavras = {};\n",
        "palavras = texto.split();\n",
        "\n",
        "for palavra in palavras:\n",
        "    if palavra in contagem_palavras:\n",
        "        contagem_palavras[palavra] += 1;\n",
        "    else:\n",
        "        contagem_palavras[palavra] = 1;\n",
        "\n",
        "print(\"Contagem de palavras:\", contagem_palavras);"
      ]
    },
    {
      "cell_type": "markdown",
      "id": "693da2e9-2bc6-4c8f-ae96-f6b03f4a82f7",
      "metadata": {
        "id": "693da2e9-2bc6-4c8f-ae96-f6b03f4a82f7"
      },
      "source": [
        "## Atividade 2: Analisar Dados de Alunos\n",
        "\n",
        "1. Crie uma lista chamada alunos, onde cada item é um dicionário com as chaves \"nome\" e \"nota\". Adicione pelo menos 4 alunos.\n",
        "\n",
        "2. Crie uma variável soma_notas e inicialize-a com 0.\n",
        "\n",
        "3. Crie uma variável melhor_aluno como um dicionário vazio.\n",
        "\n",
        "4. Use um laço de repetição for para iterar sobre a lista alunos.\n",
        "\n",
        "5. Dentro do loop, adicione a nota de cada aluno à soma_notas.\n",
        "\n",
        "6. Use um condicional para verificar se a nota do aluno atual é maior que a nota armazenada em melhor_aluno. Se sim, atualize o dicionário melhor_aluno com os dados do aluno atual.\n",
        "\n",
        "7. Após o loop, calcule a média da turma (soma_notas dividida pelo número de alunos) e imprima o nome do aluno com a maior nota e a média da turma."
      ]
    },
    {
      "cell_type": "code",
      "execution_count": null,
      "id": "efb0d640-8d2e-405f-9c05-fbce9306e3c0",
      "metadata": {
        "colab": {
          "base_uri": "https://localhost:8080/"
        },
        "id": "efb0d640-8d2e-405f-9c05-fbce9306e3c0",
        "outputId": "93cb5c09-3de1-4abc-8a3d-5fd4e327a2dc"
      },
      "outputs": [
        {
          "output_type": "stream",
          "name": "stdout",
          "text": [
            "Melhor aluno: Carla com nota 9.2\n",
            "Média da turma: 7.8\n"
          ]
        }
      ],
      "source": [
        "# Escreva o código aqui\n",
        "\n",
        "\n",
        "alunos = [\n",
        "    {\"nome\": \"Ana\", \"nota\": 8.5},\n",
        "    {\"nome\": \"Bruno\", \"nota\": 6.0},\n",
        "    {\"nome\": \"Carla\", \"nota\": 9.2},\n",
        "    {\"nome\": \"Diego\", \"nota\": 7.5}\n",
        "];\n",
        "\n",
        "soma_notas = 0;\n",
        "melhor_aluno = {\"nome\": \"\", \"nota\": 0};\n",
        "\n",
        "for aluno in alunos:\n",
        "    soma_notas += aluno[\"nota\"];\n",
        "\n",
        "    if aluno[\"nota\"] > melhor_aluno[\"nota\"]:\n",
        "        melhor_aluno = aluno;\n",
        "\n",
        "media_turma = soma_notas / len(alunos);\n",
        "\n",
        "print(\"Melhor aluno:\", melhor_aluno[\"nome\"], \"com nota\", melhor_aluno[\"nota\"]);\n",
        "print(\"Média da turma:\", media_turma);"
      ]
    },
    {
      "cell_type": "markdown",
      "id": "6d4aa6eb-3acc-4fbf-8dc3-b1de51101eeb",
      "metadata": {
        "id": "6d4aa6eb-3acc-4fbf-8dc3-b1de51101eeb"
      },
      "source": [
        "## Atividade 3: Gerar um Tabuleiro de Xadrez\n",
        "\n",
        "1. Crie uma lista vazia chamada tabuleiro.\n",
        "\n",
        "2. Use um laço de repetição for externo para iterar 8 vezes (representando as linhas).\n",
        "\n",
        "3. Dentro dele, crie uma lista vazia chamada linha.\n",
        "\n",
        "4. Use um laço de repetição for interno para iterar 8 vezes (representando as colunas).\n",
        "\n",
        "5. Dentro do loop interno, use um condicional para adicionar uma string que representa a cor da casa ('preto' ou 'branco') à linha, alternando a cor a cada passo.\n",
        "\n",
        "6. Adicione a linha completa ao tabuleiro após o loop interno.\n",
        "\n",
        "7. Imprima o tabuleiro completo."
      ]
    },
    {
      "cell_type": "code",
      "execution_count": null,
      "id": "1bbb6d13-61e1-46d8-b018-b2852b6f2b39",
      "metadata": {
        "colab": {
          "base_uri": "https://localhost:8080/"
        },
        "id": "1bbb6d13-61e1-46d8-b018-b2852b6f2b39",
        "outputId": "0c50f8e1-59fc-4968-f639-0c3f32471d2a"
      },
      "outputs": [
        {
          "output_type": "stream",
          "name": "stdout",
          "text": [
            "['branco', 'preto', 'branco', 'preto', 'branco', 'preto', 'branco', 'preto']\n",
            "['preto', 'branco', 'preto', 'branco', 'preto', 'branco', 'preto', 'branco']\n",
            "['branco', 'preto', 'branco', 'preto', 'branco', 'preto', 'branco', 'preto']\n",
            "['preto', 'branco', 'preto', 'branco', 'preto', 'branco', 'preto', 'branco']\n",
            "['branco', 'preto', 'branco', 'preto', 'branco', 'preto', 'branco', 'preto']\n",
            "['preto', 'branco', 'preto', 'branco', 'preto', 'branco', 'preto', 'branco']\n",
            "['branco', 'preto', 'branco', 'preto', 'branco', 'preto', 'branco', 'preto']\n",
            "['preto', 'branco', 'preto', 'branco', 'preto', 'branco', 'preto', 'branco']\n"
          ]
        }
      ],
      "source": [
        "# Escreva o código aqui\n",
        "\n",
        "tabuleiro = [];\n",
        "\n",
        "for i in range(8):\n",
        "    linha = [];\n",
        "    for j in range(8):\n",
        "        if (i + j) % 2 == 0:\n",
        "            linha.append(\"branco\");\n",
        "        else:\n",
        "            linha.append(\"preto\");\n",
        "    tabuleiro.append(linha);\n",
        "\n",
        "for linha in tabuleiro:\n",
        "    print(linha);"
      ]
    },
    {
      "cell_type": "markdown",
      "id": "bbaa181f-1687-404c-bdaa-44ed8fddccf3",
      "metadata": {
        "id": "bbaa181f-1687-404c-bdaa-44ed8fddccf3"
      },
      "source": [
        "## Atividade 4: Análise de Dados de Sensores\n",
        "\n",
        "1. Crie uma lista de dicionários chamada leituras_sensores, onde cada dicionário tem as chaves \"sensor_id\", \"valor\" (numérico) e \"data\" (string). Adicione pelo menos 5 leituras.\n",
        "\n",
        "2. Crie variáveis para a soma dos valores, o maior valor, o menor valor e a contagem de leituras.\n",
        "\n",
        "3. Crie um dicionário vazio chamado alertas para armazenar leituras com valor acima de um limite (por exemplo, 30).\n",
        "\n",
        "4. Use um laço de repetição for para percorrer a lista leituras_sensores.\n",
        "\n",
        "5. Dentro do loop, atualize as variáveis de soma, maior e menor valor.\n",
        "\n",
        "6. Use um condicional (if) para verificar se o valor da leitura é maior que o limite. Se sim, adicione a leitura completa ao dicionário alertas com o sensor_id como chave.\n",
        "\n",
        "7. Após o loop, calcule a média dos valores e imprima um relatório com o valor médio, o maior valor, o menor valor e o dicionário alertas com as leituras que ultrapassaram o limite."
      ]
    },
    {
      "cell_type": "code",
      "execution_count": null,
      "id": "52851988-3032-40eb-8c44-8a8eb2d2bb7e",
      "metadata": {
        "colab": {
          "base_uri": "https://localhost:8080/"
        },
        "id": "52851988-3032-40eb-8c44-8a8eb2d2bb7e",
        "outputId": "6368ec9e-1f80-4ab9-b3d3-d87536e90442"
      },
      "outputs": [
        {
          "output_type": "stream",
          "name": "stdout",
          "text": [
            "Relatório de Análise de Sensores\n",
            "Valor médio: 28.6\n",
            "Maior valor: 40\n",
            "Menor valor: 18\n",
            "Alertas (leituras acima do limite):\n",
            "{'S2': {'sensor_id': 'S2', 'valor': 32, 'data': '2025-09-02'}, 'S4': {'sensor_id': 'S4', 'valor': 40, 'data': '2025-09-04'}}\n"
          ]
        }
      ],
      "source": [
        "# Escreva o código aqui\n",
        "\n",
        "leituras_sensores = [\n",
        "    {\"sensor_id\": \"S1\", \"valor\": 25, \"data\": \"2025-09-01\"},\n",
        "    {\"sensor_id\": \"S2\", \"valor\": 32, \"data\": \"2025-09-02\"},\n",
        "    {\"sensor_id\": \"S3\", \"valor\": 28, \"data\": \"2025-09-03\"},\n",
        "    {\"sensor_id\": \"S4\", \"valor\": 40, \"data\": \"2025-09-04\"},\n",
        "    {\"sensor_id\": \"S5\", \"valor\": 18, \"data\": \"2025-09-05\"}\n",
        "];\n",
        "\n",
        "soma_valores = 0;\n",
        "maior_valor = float(\"-inf\");\n",
        "menor_valor = float(\"inf\");\n",
        "contagem = 0;\n",
        "alertas = {};\n",
        "\n",
        "limite = 30;\n",
        "\n",
        "for leitura in leituras_sensores:\n",
        "    valor = leitura[\"valor\"];\n",
        "    soma_valores += valor;\n",
        "    contagem += 1;\n",
        "\n",
        "    if valor > maior_valor:\n",
        "        maior_valor = valor;\n",
        "    if valor < menor_valor:\n",
        "        menor_valor = valor;\n",
        "\n",
        "    if valor > limite:\n",
        "        alertas[leitura[\"sensor_id\"]] = leitura;\n",
        "\n",
        "media_valores = soma_valores / contagem;\n",
        "\n",
        "print(\"Relatório de Análise de Sensores\");\n",
        "print(\"Valor médio:\", media_valores);\n",
        "print(\"Maior valor:\", maior_valor);\n",
        "print(\"Menor valor:\", menor_valor);\n",
        "print(\"Alertas (leituras acima do limite):\");\n",
        "print(alertas);"
      ]
    },
    {
      "cell_type": "markdown",
      "id": "6e53f9c4-3f20-4722-9ec7-62d16c3f5a0a",
      "metadata": {
        "id": "6e53f9c4-3f20-4722-9ec7-62d16c3f5a0a"
      },
      "source": [
        "## Atividade 5: Consolidação e Limpeza de Dados de Múltiplas Fontes\n",
        "\n",
        "1. Crie duas listas de dicionários, sensores_leste e sensores_oeste, cada uma com pelo menos 3 dicionários. Cada dicionário deve ter as chaves \"id\", \"temperatura\" (numérico) e \"umidade\" (numérico). Inclua valores negativos ou nulos para simular dados inválidos.\n",
        "\n",
        "2. Crie uma lista vazia chamada dados_validos.\n",
        "\n",
        "3. Use loops de repetição para percorrer as duas listas de sensores. Dentro dos loops, use condicionais (if) para verificar se os valores de \"temperatura\" e \"umidade\" são positivos.\n",
        "\n",
        "4. Se os dados forem válidos, adicione o dicionário completo à lista dados_validos.\n",
        "\n",
        "5. Após os loops, use um laço for para iterar sobre a lista dados_validos. Calcule e armazene a temperatura média, a umidade média, a temperatura máxima e a umidade máxima.\n",
        "\n",
        "6. Use um dicionário para contar o número de leituras válidas de cada sensor (usando o \"id\" como chave).\n",
        "\n",
        "7. Imprima um relatório final com as médias, os valores máximos e a contagem de leituras por sensor."
      ]
    },
    {
      "cell_type": "code",
      "execution_count": null,
      "id": "9700132e-8de9-47c4-9f22-c390adb2cf7a",
      "metadata": {
        "colab": {
          "base_uri": "https://localhost:8080/"
        },
        "id": "9700132e-8de9-47c4-9f22-c390adb2cf7a",
        "outputId": "0d9c5350-0ddd-461b-9d99-31296145c5ba"
      },
      "outputs": [
        {
          "output_type": "stream",
          "name": "stdout",
          "text": [
            "Relatório\n",
            "Leituras válidas: 3\n",
            "Temperatura média: 26.27°C\n",
            "Umidade média: 59.77%\n",
            "Temperatura máxima: 27.50°C\n",
            "Umidade máxima: 61.20%\n",
            "Contagem de leituras por sensor:\n",
            "  - L1: 1\n",
            "  - O1: 1\n",
            "  - O3: 1\n"
          ]
        }
      ],
      "source": [
        "# Escreva o código aqui\n",
        "\n",
        "sensores_leste = [\n",
        "    {\"id\": \"L1\", \"temperatura\": 25.2, \"umidade\": 60.1},\n",
        "    {\"id\": \"L2\", \"temperatura\": -3.0, \"umidade\": 55.0},\n",
        "    {\"id\": \"L3\", \"temperatura\": 22.8, \"umidade\": None}\n",
        "];\n",
        "sensores_oeste = [\n",
        "    {\"id\": \"O1\", \"temperatura\": 27.5, \"umidade\": 58.0},\n",
        "    {\"id\": \"O2\", \"temperatura\": 0, \"umidade\": 49.0},\n",
        "    {\"id\": \"O3\", \"temperatura\": 26.1, \"umidade\": 61.2}\n",
        "];\n",
        "\n",
        "dados_validos = []\n",
        "\n",
        "def leitura_valida(d):\n",
        "    t, u = d.get(\"temperatura\"), d.get(\"umidade\");\n",
        "    return (isinstance(t, (int, float)) and isinstance(u, (int, float)) and t > 0 and u > 0);\n",
        "\n",
        "for leitura in sensores_leste:\n",
        "    if leitura_valida(leitura):\n",
        "        dados_validos.append(leitura);\n",
        "\n",
        "for leitura in sensores_oeste:\n",
        "    if leitura_valida(leitura):\n",
        "        dados_validos.append(leitura);\n",
        "\n",
        "if not dados_validos:\n",
        "    print(\"Nenhuma leitura válida encontrada.\");\n",
        "else:\n",
        "    soma_temp = 0.0;\n",
        "    soma_umid = 0.0;\n",
        "    temp_max = float(\"-inf\");\n",
        "    umid_max = float(\"-inf\");\n",
        "    contagem_por_sensor = {};\n",
        "\n",
        "    for d in dados_validos:\n",
        "        t = d[\"temperatura\"];\n",
        "        u = d[\"umidade\"];\n",
        "        soma_temp += t;\n",
        "        soma_umid += u;\n",
        "        if t > temp_max:\n",
        "            temp_max = t;\n",
        "        if u > umid_max:\n",
        "            umid_max = u;\n",
        "\n",
        "        sensor_id = d[\"id\"];\n",
        "\n",
        "        if sensor_id in contagem_por_sensor:\n",
        "            contagem_por_sensor[sensor_id] += 1;\n",
        "        else:\n",
        "            contagem_por_sensor[sensor_id] = 1;\n",
        "\n",
        "    n = len(dados_validos);\n",
        "    temp_media = soma_temp / n;\n",
        "    umid_media = soma_umid / n;\n",
        "\n",
        "    print(\"Relatório\");\n",
        "    print(f\"Leituras válidas: {n}\");\n",
        "    print(f\"Temperatura média: {temp_media:.2f}°C\");\n",
        "    print(f\"Umidade média: {umid_media:.2f}%\");\n",
        "    print(f\"Temperatura máxima: {temp_max:.2f}°C\");\n",
        "    print(f\"Umidade máxima: {umid_max:.2f}%\");\n",
        "    print(\"Contagem de leituras por sensor:\");\n",
        "\n",
        "    for sid, cnt in contagem_por_sensor.items():\n",
        "        print(f\"  - {sid}: {cnt}\");\n"
      ]
    }
  ],
  "metadata": {
    "kernelspec": {
      "display_name": "Python 3 (ipykernel)",
      "language": "python",
      "name": "python3"
    },
    "language_info": {
      "codemirror_mode": {
        "name": "ipython",
        "version": 3
      },
      "file_extension": ".py",
      "mimetype": "text/x-python",
      "name": "python",
      "nbconvert_exporter": "python",
      "pygments_lexer": "ipython3",
      "version": "3.13.7"
    },
    "colab": {
      "provenance": []
    }
  },
  "nbformat": 4,
  "nbformat_minor": 5
}